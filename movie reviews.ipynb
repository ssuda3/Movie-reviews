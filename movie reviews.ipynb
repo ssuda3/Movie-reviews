{
 "metadata": {
  "name": "",
  "signature": "sha256:8a0f7de21bf00e785ee2668fd7d8b0a3b79c71ffaf5fac1e700ae447c2fd5dd1"
 },
 "nbformat": 3,
 "nbformat_minor": 0,
 "worksheets": [
  {
   "cells": [
    {
     "cell_type": "code",
     "collapsed": false,
     "input": [
      "import pandas as pd\n",
      "import numpy as np"
     ],
     "language": "python",
     "metadata": {},
     "outputs": [],
     "prompt_number": 1
    },
    {
     "cell_type": "code",
     "collapsed": false,
     "input": [
      "#download the class movie reviews from here:\n",
      "#https://docs.google.com/spreadsheets/d/17rCJzmWxqvAu9rkpkgt4ToccIlY4A1Ffuu1W9X3B8Ag/\n",
      "#then read that in as a pandas dataframe"
     ],
     "language": "python",
     "metadata": {},
     "outputs": [],
     "prompt_number": 2
    },
    {
     "cell_type": "code",
     "collapsed": false,
     "input": [
      "M = pd.read_csv('MovieReviews.csv', index_col='Name')"
     ],
     "language": "python",
     "metadata": {},
     "outputs": [],
     "prompt_number": 3
    },
    {
     "cell_type": "code",
     "collapsed": false,
     "input": [
      "def pearson(s1, s2):\n",
      "    \"\"\"Take two pd.Series objects and return a pearson correlation.\"\"\"\n",
      "    s1_c = s1 - s1.mean()\n",
      "    s2_c = s2 - s2.mean()\n",
      "    return np.sum(s1_c * s2_c) / np.sqrt(np.sum(s1_c ** 2) * np.sum(s2_c ** 2))"
     ],
     "language": "python",
     "metadata": {},
     "outputs": [],
     "prompt_number": 4
    },
    {
     "cell_type": "code",
     "collapsed": false,
     "input": [
      "def get_recs(movie_name, M, num):\n",
      "\n",
      "    import numpy as np\n",
      "    reviews = []\n",
      "    for title in M.columns:\n",
      "        if title == movie_name:\n",
      "            continue\n",
      "        cor = pearson(M[movie_name], M[title])\n",
      "        if np.isnan(cor):\n",
      "            continue\n",
      "        else:\n",
      "            reviews.append((title, cor))\n",
      "    \n",
      "    reviews.sort(key=lambda tup: tup[1], reverse=True)\n",
      "    return reviews[:num]\n",
      "\n",
      "    "
     ],
     "language": "python",
     "metadata": {},
     "outputs": [],
     "prompt_number": 5
    },
    {
     "cell_type": "markdown",
     "metadata": {},
     "source": [
      "###Question 1:  What movie is most Similar to 'The fault in our stars' (60 pts)\n"
     ]
    },
    {
     "cell_type": "code",
     "collapsed": false,
     "input": [
      "recs = get_recs('The Fault in Our Stars', M, 10)\n",
      "recs[:1]"
     ],
     "language": "python",
     "metadata": {},
     "outputs": [
      {
       "metadata": {},
       "output_type": "pyout",
       "prompt_number": 6,
       "text": [
        "[('Transformers', 0.46673568990261)]"
       ]
      }
     ],
     "prompt_number": 6
    },
    {
     "cell_type": "markdown",
     "metadata": {},
     "source": [
      "###Question 2:  Which movie(s) would you most like to see, based on your classmates experience? (40 pts)"
     ]
    },
    {
     "cell_type": "code",
     "collapsed": false,
     "input": [
      "#the movies I've seen\n",
      "my_ratings = M.ix['siddanth sudarshan'].dropna()\n",
      "#the movie I've rated the highest\n",
      "my_ratings.sort(ascending=False)"
     ],
     "language": "python",
     "metadata": {},
     "outputs": [],
     "prompt_number": 7
    },
    {
     "cell_type": "code",
     "collapsed": false,
     "input": [
      "my_ratings"
     ],
     "language": "python",
     "metadata": {},
     "outputs": [
      {
       "metadata": {},
       "output_type": "pyout",
       "prompt_number": 8,
       "text": [
        "300: Rise of an Empire                   5\n",
        "American Sniper                          5\n",
        "Gone Girl                                4\n",
        "Interstellar                             4\n",
        "Guardians of the Galaxy                  3\n",
        "The Hunger Games: Mockingjay - Part 1    3\n",
        "The Hobbit                               2\n",
        "Name: siddanth sudarshan, dtype: float64"
       ]
      }
     ],
     "prompt_number": 8
    },
    {
     "cell_type": "code",
     "collapsed": false,
     "input": [
      "#300: Rise of an Empire\n",
      "recs = get_recs('300: Rise of an Empire', M, 10)\n",
      "recs[:5]"
     ],
     "language": "python",
     "metadata": {},
     "outputs": [
      {
       "metadata": {},
       "output_type": "pyout",
       "prompt_number": 9,
       "text": [
        "[('How to Train your Dragon 2', 0.5335117319042213),\n",
        " ('American Sniper', 0.36468510415198913),\n",
        " ('Divergent', 0.27506473694076988),\n",
        " ('The Fault in Our Stars', 0.18164652439484799),\n",
        " ('The Hobbit', 0.13490432590972193)]"
       ]
      }
     ],
     "prompt_number": 9
    },
    {
     "cell_type": "code",
     "collapsed": false,
     "input": [
      "#American Sniper\n",
      "recs = get_recs('American Sniper', M, 10)\n",
      "recs[:5]"
     ],
     "language": "python",
     "metadata": {},
     "outputs": [
      {
       "metadata": {},
       "output_type": "pyout",
       "prompt_number": 10,
       "text": [
        "[('Gone Girl', 0.36742346141747678),\n",
        " ('300: Rise of an Empire', 0.36468510415198913),\n",
        " ('Divergent', 0.27279597842750042),\n",
        " ('How to Train your Dragon 2', 0.087254735056954788),\n",
        " ('Malificent', 0.060677987621691742)]"
       ]
      }
     ],
     "prompt_number": 10
    },
    {
     "cell_type": "markdown",
     "metadata": {},
     "source": [
      "###Question 3: Bonus Question...  For all the movies you haven't seen, can you predict how you'd rate them using your the class reviews? (10 pts)"
     ]
    },
    {
     "cell_type": "code",
     "collapsed": false,
     "input": [
      "not_rated = M.ix['siddanth sudarshan']\n",
      "not_rated.sort()\n",
      "for i in range(0, not_rated.count(), 1):\n",
      "    not_rated.drop(not_rated.index[0], inplace=True)"
     ],
     "language": "python",
     "metadata": {},
     "outputs": [],
     "prompt_number": 11
    },
    {
     "cell_type": "code",
     "collapsed": false,
     "input": [
      "not_rated"
     ],
     "language": "python",
     "metadata": {},
     "outputs": [
      {
       "metadata": {},
       "output_type": "pyout",
       "prompt_number": 12,
       "text": [
        "The Lego Movie               NaN\n",
        "Transformers                 NaN\n",
        "Malificent                   NaN\n",
        "Big Hero 6                   NaN\n",
        "Godzilla                     NaN\n",
        "How to Train your Dragon 2   NaN\n",
        "Divergent                    NaN\n",
        "The Fault in Our Stars       NaN\n",
        "Unbroken                     NaN\n",
        "Name: siddanth sudarshan, dtype: float64"
       ]
      }
     ],
     "prompt_number": 12
    },
    {
     "cell_type": "code",
     "collapsed": false,
     "input": [
      "print \"Pearson Correlation coefficient of :\"\n",
      "a= []\n",
      "for i in range(0, 26, 1): \n",
      "    cor=pearson(M.ix[26], M.ix[i])\n",
      "    print \"(\" + M.index[26] + \" , \" + M.index[i] + \") :\", cor\n",
      "    a.append(cor)"
     ],
     "language": "python",
     "metadata": {},
     "outputs": [
      {
       "output_type": "stream",
       "stream": "stdout",
       "text": [
        "Pearson Correlation coefficient of :\n",
        "(siddanth sudarshan , Mike) : -0.638987602683\n",
        "(siddanth sudarshan , HJ SONG) : 0.472770913572\n",
        "(siddanth sudarshan , Ryan Hansen) : -0.365309557412\n",
        "(siddanth sudarshan , Olumuyiwa Durojaiye) : -0.217733843846\n",
        "(siddanth sudarshan , Charlie) : -0.0337693509694\n",
        "(siddanth sudarshan , Sina Tuy) : -0.577600044705\n",
        "(siddanth sudarshan , Pavithra Shetty) : 0.292364537824\n",
        "(siddanth sudarshan , Sara Collins) : -0.213980246255\n",
        "(siddanth sudarshan , Jonathan Doll) : -0.425999609378\n",
        "(siddanth sudarshan , saikiran reddy) : -0.3645074022\n",
        "(siddanth sudarshan , Aishwarya reddy) : -0.121315396515\n",
        "(siddanth sudarshan , Brant Mullinix) : -0.308168026355\n",
        "(siddanth sudarshan , Sai Sampath) : -0.121315396515\n",
        "(siddanth sudarshan , Suyendra) : -0.072048802213\n",
        "(siddanth sudarshan , Sai Yallapragada) : 0.53724597882\n",
        "(siddanth sudarshan , Akhilesh) : -0.057757681433\n",
        "(siddanth sudarshan , Sundar Prasad) : -0.19258222163\n",
        "(siddanth sudarshan , Evan Piercy) : -0.172250775529\n",
        "(siddanth sudarshan , Jessica Fong) : 0.248806675764\n",
        "(siddanth sudarshan , Onsiri Tapsarn) : nan\n",
        "(siddanth sudarshan , Anirudh Thota) : 0.3828592386\n",
        "(siddanth sudarshan , Greg Werner) : 0.516187830788\n",
        "(siddanth sudarshan , Violeta Lee Fay) :"
       ]
      },
      {
       "output_type": "stream",
       "stream": "stdout",
       "text": [
        " -0.317744454651\n",
        "(siddanth sudarshan , Aditya Dharmasagar) : 0.151306883167\n",
        "(siddanth sudarshan , Manideep Maddipatla) : 0.0371778655908\n",
        "(siddanth sudarshan , Maheshwar Reddy) : -0.0833905481244\n"
       ]
      }
     ],
     "prompt_number": 13
    },
    {
     "cell_type": "code",
     "collapsed": false,
     "input": [
      "def pred_rate(x, a):\n",
      "    \n",
      "    j=0\n",
      "    k=0\n",
      "    for i in range(0, 26, 1): # as there are 26 rows(x.shape), range(0,26) \n",
      "        if x.irow(i)>0 and a[i]>0: \n",
      "            j= j+(a[i]*x.irow(i))\n",
      "            k= k+a[i]\n",
      "        else:\n",
      "            continue\n",
      "    return j/k"
     ],
     "language": "python",
     "metadata": {},
     "outputs": [],
     "prompt_number": 14
    },
    {
     "cell_type": "code",
     "collapsed": false,
     "input": [
      "print \"My ratings for the movies that I have not seen using class review:\"\n",
      "for i in range(0, 7, 1): \n",
      "    x=M[not_rated.index[i]]\n",
      "    rate=pred_rate(x, a)\n",
      "    print not_rated.index[i] +\": \", rate.round(1)"
     ],
     "language": "python",
     "metadata": {},
     "outputs": [
      {
       "output_type": "stream",
       "stream": "stdout",
       "text": [
        "My ratings for the movies that I have not seen using class review:\n",
        "The Lego Movie:  3.4\n",
        "Transformers:  4.0\n",
        "Malificent:  4.0\n",
        "Big Hero 6:  4.0\n",
        "Godzilla:  2.7\n",
        "How to Train your Dragon 2:  4.3\n",
        "Divergent:  3.4\n"
       ]
      }
     ],
     "prompt_number": 15
    },
    {
     "cell_type": "code",
     "collapsed": false,
     "input": [],
     "language": "python",
     "metadata": {},
     "outputs": []
    }
   ],
   "metadata": {}
  }
 ]
}